{
  "cells": [
    {
      "cell_type": "code",
      "source": [
        "!pip install pythainlp python-crfsuite"
      ],
      "metadata": {
        "colab": {
          "base_uri": "https://localhost:8080/"
        },
        "id": "WyaQMBt7-stp",
        "outputId": "61276b6a-aab1-4eac-bcdf-6e8f87ebe52a"
      },
      "execution_count": 4,
      "outputs": [
        {
          "output_type": "stream",
          "name": "stdout",
          "text": [
            "Requirement already satisfied: pythainlp in /usr/local/lib/python3.7/dist-packages (3.0.0)\n",
            "Collecting python-crfsuite\n",
            "  Downloading python_crfsuite-0.9.7-cp37-cp37m-manylinux1_x86_64.whl (743 kB)\n",
            "\u001b[K     |████████████████████████████████| 743 kB 5.5 MB/s \n",
            "\u001b[?25hRequirement already satisfied: tinydb>=3.0 in /usr/local/lib/python3.7/dist-packages (from pythainlp) (4.6.1)\n",
            "Requirement already satisfied: requests>=2.22.0 in /usr/local/lib/python3.7/dist-packages (from pythainlp) (2.23.0)\n",
            "Requirement already satisfied: chardet<4,>=3.0.2 in /usr/local/lib/python3.7/dist-packages (from requests>=2.22.0->pythainlp) (3.0.4)\n",
            "Requirement already satisfied: certifi>=2017.4.17 in /usr/local/lib/python3.7/dist-packages (from requests>=2.22.0->pythainlp) (2021.10.8)\n",
            "Requirement already satisfied: urllib3!=1.25.0,!=1.25.1,<1.26,>=1.21.1 in /usr/local/lib/python3.7/dist-packages (from requests>=2.22.0->pythainlp) (1.24.3)\n",
            "Requirement already satisfied: idna<3,>=2.5 in /usr/local/lib/python3.7/dist-packages (from requests>=2.22.0->pythainlp) (2.10)\n",
            "Requirement already satisfied: typing-extensions<5.0.0,>=3.10.0 in /usr/local/lib/python3.7/dist-packages (from tinydb>=3.0->pythainlp) (3.10.0.2)\n",
            "Installing collected packages: python-crfsuite\n",
            "Successfully installed python-crfsuite-0.9.7\n"
          ]
        }
      ]
    },
    {
      "cell_type": "markdown",
      "metadata": {
        "id": "gfIOTGCy9oUZ"
      },
      "source": [
        "# Lao Part-of-speech\n",
        "\n",
        "I use Yunshan Cup 2020 to train Lao Part-Of-sppech from https://github.com/FoVNull/SeqLabeling."
      ]
    },
    {
      "cell_type": "code",
      "execution_count": 5,
      "metadata": {
        "id": "GuWaa2Yz9oUd",
        "outputId": "4ae7699d-549d-43ce-9be6-03209ecdc157",
        "colab": {
          "base_uri": "https://localhost:8080/"
        }
      },
      "outputs": [
        {
          "output_type": "stream",
          "name": "stdout",
          "text": [
            "--2022-02-04 13:45:57--  https://github.com/GKLMIP/Yunshan-Cup-2020/raw/main/train.txt\n",
            "Resolving github.com (github.com)... 140.82.114.4\n",
            "Connecting to github.com (github.com)|140.82.114.4|:443... connected.\n",
            "HTTP request sent, awaiting response... 302 Found\n",
            "Location: https://raw.githubusercontent.com/GKLMIP/Yunshan-Cup-2020/main/train.txt [following]\n",
            "--2022-02-04 13:45:58--  https://raw.githubusercontent.com/GKLMIP/Yunshan-Cup-2020/main/train.txt\n",
            "Resolving raw.githubusercontent.com (raw.githubusercontent.com)... 185.199.110.133, 185.199.111.133, 185.199.109.133, ...\n",
            "Connecting to raw.githubusercontent.com (raw.githubusercontent.com)|185.199.110.133|:443... connected.\n",
            "HTTP request sent, awaiting response... 200 OK\n",
            "Length: 1496147 (1.4M) [text/plain]\n",
            "Saving to: ‘train.txt.1’\n",
            "\n",
            "train.txt.1         100%[===================>]   1.43M  --.-KB/s    in 0.05s   \n",
            "\n",
            "2022-02-04 13:45:58 (27.3 MB/s) - ‘train.txt.1’ saved [1496147/1496147]\n",
            "\n",
            "--2022-02-04 13:45:58--  https://github.com/GKLMIP/Yunshan-Cup-2020/raw/main/dev.txt\n",
            "Resolving github.com (github.com)... 140.82.114.4\n",
            "Connecting to github.com (github.com)|140.82.114.4|:443... connected.\n",
            "HTTP request sent, awaiting response... 302 Found\n",
            "Location: https://raw.githubusercontent.com/GKLMIP/Yunshan-Cup-2020/main/dev.txt [following]\n",
            "--2022-02-04 13:45:58--  https://raw.githubusercontent.com/GKLMIP/Yunshan-Cup-2020/main/dev.txt\n",
            "Resolving raw.githubusercontent.com (raw.githubusercontent.com)... 185.199.108.133, 185.199.111.133, 185.199.109.133, ...\n",
            "Connecting to raw.githubusercontent.com (raw.githubusercontent.com)|185.199.108.133|:443... connected.\n",
            "HTTP request sent, awaiting response... 200 OK\n",
            "Length: 374549 (366K) [text/plain]\n",
            "Saving to: ‘dev.txt’\n",
            "\n",
            "dev.txt             100%[===================>] 365.77K  --.-KB/s    in 0.03s   \n",
            "\n",
            "2022-02-04 13:45:58 (11.2 MB/s) - ‘dev.txt’ saved [374549/374549]\n",
            "\n",
            "--2022-02-04 13:45:59--  https://github.com/GKLMIP/Yunshan-Cup-2020/raw/main/test.txt\n",
            "Resolving github.com (github.com)... 140.82.114.4\n",
            "Connecting to github.com (github.com)|140.82.114.4|:443... connected.\n",
            "HTTP request sent, awaiting response... 302 Found\n",
            "Location: https://raw.githubusercontent.com/GKLMIP/Yunshan-Cup-2020/main/test.txt [following]\n",
            "--2022-02-04 13:45:59--  https://raw.githubusercontent.com/GKLMIP/Yunshan-Cup-2020/main/test.txt\n",
            "Resolving raw.githubusercontent.com (raw.githubusercontent.com)... 185.199.108.133, 185.199.109.133, 185.199.111.133, ...\n",
            "Connecting to raw.githubusercontent.com (raw.githubusercontent.com)|185.199.108.133|:443... connected.\n",
            "HTTP request sent, awaiting response... 200 OK\n",
            "Length: 710696 (694K) [text/plain]\n",
            "Saving to: ‘test.txt.1’\n",
            "\n",
            "test.txt.1          100%[===================>] 694.04K  --.-KB/s    in 0.04s   \n",
            "\n",
            "2022-02-04 13:45:59 (15.7 MB/s) - ‘test.txt.1’ saved [710696/710696]\n",
            "\n"
          ]
        }
      ],
      "source": [
        "!wget https://github.com/GKLMIP/Yunshan-Cup-2020/raw/main/train.txt\n",
        "!wget https://github.com/GKLMIP/Yunshan-Cup-2020/raw/main/dev.txt\n",
        "!wget https://github.com/GKLMIP/Yunshan-Cup-2020/raw/main/test.txt"
      ]
    },
    {
      "cell_type": "code",
      "execution_count": 6,
      "metadata": {
        "id": "bcrMeb7g9oUh"
      },
      "outputs": [],
      "source": [
        "import pickle\n",
        "from pythainlp.tag import PerceptronTagger\n",
        "from sklearn import metrics\n",
        "from sklearn.preprocessing import LabelBinarizer\n",
        "from itertools import chain\n",
        "from sklearn.metrics import classification_report"
      ]
    },
    {
      "cell_type": "code",
      "execution_count": 7,
      "metadata": {
        "id": "_FzZ4p069oUm"
      },
      "outputs": [],
      "source": [
        "alltag = []"
      ]
    },
    {
      "cell_type": "code",
      "execution_count": 60,
      "metadata": {
        "id": "HPRJQrnp9oUn"
      },
      "outputs": [],
      "source": [
        "def readfile(name):\n",
        "    with open(name ,\"r\",encoding='utf-8-sig') as f:\n",
        "        data = [i.strip()  for i in f.readlines()]\n",
        "    _list = []\n",
        "    _p=[]\n",
        "    for i in data:\n",
        "      if i== '':\n",
        "        _list.append(_p)\n",
        "        _p=[]\n",
        "      else:\n",
        "        _w = tuple(i.split(' '))\n",
        "        if len(_w)==2:\n",
        "          _p.append(_w)\n",
        "    return _list"
      ]
    },
    {
      "cell_type": "code",
      "execution_count": 61,
      "metadata": {
        "id": "pbEpkbEu9oUp"
      },
      "outputs": [],
      "source": [
        "train_dataset = readfile(\"train.txt\")"
      ]
    },
    {
      "cell_type": "code",
      "source": [
        "train_dataset[-1]"
      ],
      "metadata": {
        "colab": {
          "base_uri": "https://localhost:8080/"
        },
        "id": "dRhUHNpG_n5D",
        "outputId": "e9df10f4-afaf-4bd6-f3e8-d5427f46c686"
      },
      "execution_count": 62,
      "outputs": [
        {
          "output_type": "execute_result",
          "data": {
            "text/plain": [
              "[('ຈໍາ', 'N'),\n",
              " ('ເປັນ', 'V'),\n",
              " ('ແຫລະ', 'N'),\n",
              " ('ແນວ', 'N'),\n",
              " ('ບັນດາ', 'PRE'),\n",
              " ('ເຈົ້ານາຍ', 'N'),\n",
              " ('ບໍ່ໄດ້', 'NEG'),\n",
              " ('ຜ່ານທາງ', 'ADJ'),\n",
              " ('ນັ້ນ', 'DMN'),\n",
              " ('ອົດທົນ', 'V')]"
            ]
          },
          "metadata": {},
          "execution_count": 62
        }
      ]
    },
    {
      "cell_type": "code",
      "execution_count": 63,
      "metadata": {
        "id": "N6SV8ZbI9oUq"
      },
      "outputs": [],
      "source": [
        "valid_dataset = readfile(\"dev.txt\")"
      ]
    },
    {
      "cell_type": "code",
      "source": [
        "valid_dataset[0]"
      ],
      "metadata": {
        "colab": {
          "base_uri": "https://localhost:8080/"
        },
        "id": "yTILcq4wB2rh",
        "outputId": "4af6e181-72ac-44df-945b-6b98639ac3ba"
      },
      "execution_count": 64,
      "outputs": [
        {
          "output_type": "execute_result",
          "data": {
            "text/plain": [
              "[('ເປັນ', 'V'),\n",
              " ('ຄໍາ', 'N'),\n",
              " ('ແນະ', 'N'),\n",
              " ('ນໍາ', 'N'),\n",
              " ('ທີ່ດີ', 'ADJ'),\n",
              " ('ອ້າຍ', 'PRE'),\n",
              " ('ສົມ', 'PRN'),\n",
              " ('ຈິດ', 'PRN'),\n",
              " ('..', 'PUNCT')]"
            ]
          },
          "metadata": {},
          "execution_count": 64
        }
      ]
    },
    {
      "cell_type": "code",
      "execution_count": 65,
      "metadata": {
        "id": "r_VS-j8q9oUr"
      },
      "outputs": [],
      "source": [
        "alltag = list(set(alltag))"
      ]
    },
    {
      "cell_type": "code",
      "source": [
        "p=0\n",
        "for j in train_dataset:\n",
        "  for i in j:\n",
        "    try:\n",
        "      (i[0],i[1])\n",
        "    except:\n",
        "      print(i)\n",
        "      print(p)\n",
        "    p+=1"
      ],
      "metadata": {
        "id": "3bSzoJp0CxQn"
      },
      "execution_count": 66,
      "outputs": []
    },
    {
      "cell_type": "code",
      "source": [
        "p=0\n",
        "for j in valid_dataset:\n",
        "  for i in j:\n",
        "    try:\n",
        "      (i[0],i[1])\n",
        "    except:\n",
        "      print(i)\n",
        "      print(p)\n",
        "    p+=1"
      ],
      "metadata": {
        "id": "8cv--CNVCTsI"
      },
      "execution_count": 67,
      "outputs": []
    },
    {
      "cell_type": "code",
      "execution_count": 68,
      "metadata": {
        "id": "wPc8N9Ua9oUt"
      },
      "outputs": [],
      "source": [
        "valid_x = [[i[0] for i in j] for j in valid_dataset]\n",
        "valid_y = [[i[1] for i in j] for j in valid_dataset]"
      ]
    },
    {
      "cell_type": "code",
      "source": [
        "test_dataset = readfile(\"test.txt\")"
      ],
      "metadata": {
        "id": "oFgynWmBCMJE"
      },
      "execution_count": 69,
      "outputs": []
    },
    {
      "cell_type": "code",
      "execution_count": 70,
      "metadata": {
        "id": "_KecO-yK9oUv"
      },
      "outputs": [],
      "source": [
        "filename = \"ptagger_Yunshan-Cup_corpus.json\""
      ]
    },
    {
      "cell_type": "code",
      "execution_count": 71,
      "metadata": {
        "id": "0_D0Xyq09oUw"
      },
      "outputs": [],
      "source": [
        "tagger = PerceptronTagger()"
      ]
    },
    {
      "cell_type": "code",
      "execution_count": 72,
      "metadata": {
        "id": "i2RdWvqV9oUy"
      },
      "outputs": [],
      "source": [
        "tagger.train(train_dataset, save_loc=filename)"
      ]
    },
    {
      "cell_type": "code",
      "execution_count": 73,
      "metadata": {
        "id": "mpFjWJbE9oU0",
        "outputId": "ba866f48-0681-4027-8fe5-b1ff4e9d7e99",
        "colab": {
          "base_uri": "https://localhost:8080/"
        }
      },
      "outputs": [
        {
          "output_type": "execute_result",
          "data": {
            "text/plain": [
              "[('ເປັນ', 'V'),\n",
              " ('ຄໍາ', 'N'),\n",
              " ('ແນະ', 'N'),\n",
              " ('ນໍາ', 'PRN'),\n",
              " ('ທີ່ດີ', 'ADJ'),\n",
              " ('ອ້າຍ', 'V'),\n",
              " ('ສົມ', 'N'),\n",
              " ('ຈິດ', 'PRN'),\n",
              " ('..', 'PUNCT')]"
            ]
          },
          "metadata": {},
          "execution_count": 73
        }
      ],
      "source": [
        "tagger.tag(valid_x[0])"
      ]
    },
    {
      "cell_type": "code",
      "execution_count": 74,
      "metadata": {
        "id": "fr5rj-FU9oU1",
        "outputId": "32dcb548-b713-4007-f04a-6a0b8553b194",
        "colab": {
          "base_uri": "https://localhost:8080/"
        }
      },
      "outputs": [
        {
          "output_type": "execute_result",
          "data": {
            "text/plain": [
              "['V', 'N', 'N', 'N', 'ADJ', 'PRE', 'PRN', 'PRN', 'PUNCT']"
            ]
          },
          "metadata": {},
          "execution_count": 74
        }
      ],
      "source": [
        "valid_y[0]"
      ]
    },
    {
      "cell_type": "markdown",
      "source": [
        "## check val"
      ],
      "metadata": {
        "id": "bIkuKU2hD8L-"
      }
    },
    {
      "cell_type": "code",
      "execution_count": 75,
      "metadata": {
        "id": "LVCZcykO9oU2"
      },
      "outputs": [],
      "source": [
        "pred = [[t for _,t in tagger.tag(sent)] for sent in valid_x]\n",
        "gold = valid_y"
      ]
    },
    {
      "cell_type": "code",
      "execution_count": 76,
      "metadata": {
        "id": "_jxKGAKQ9oU3"
      },
      "outputs": [],
      "source": [
        "for i in range(0,len(pred)):\n",
        "    if len(pred[i]) != len(gold[i]):\n",
        "        print(i)\n",
        "        print(pred[i],gold[i])"
      ]
    },
    {
      "cell_type": "code",
      "execution_count": 77,
      "metadata": {
        "id": "UICZyzvW9oU3",
        "outputId": "b0970210-4972-439f-907d-40d284964860",
        "colab": {
          "base_uri": "https://localhost:8080/"
        }
      },
      "outputs": [
        {
          "output_type": "execute_result",
          "data": {
            "text/plain": [
              "1600"
            ]
          },
          "metadata": {},
          "execution_count": 77
        }
      ],
      "source": [
        "len(pred)"
      ]
    },
    {
      "cell_type": "code",
      "execution_count": 78,
      "metadata": {
        "id": "tzublIMT9oU4",
        "outputId": "91bf93ba-cd15-42df-dfbe-d02e0ca331e6",
        "colab": {
          "base_uri": "https://localhost:8080/"
        }
      },
      "outputs": [
        {
          "output_type": "execute_result",
          "data": {
            "text/plain": [
              "1600"
            ]
          },
          "metadata": {},
          "execution_count": 78
        }
      ],
      "source": [
        "len(gold)"
      ]
    },
    {
      "cell_type": "code",
      "execution_count": 79,
      "metadata": {
        "id": "7JBx8eqj9oU5",
        "outputId": "57535bd1-3fd6-48b5-de82-e419e8c4fc5a",
        "colab": {
          "base_uri": "https://localhost:8080/"
        }
      },
      "outputs": [
        {
          "output_type": "execute_result",
          "data": {
            "text/plain": [
              "['NTR', 'V', 'ADV', 'N', 'PRE', 'IAC', 'CLF', 'ADJ', 'NEG']"
            ]
          },
          "metadata": {},
          "execution_count": 79
        }
      ],
      "source": [
        "alltag"
      ]
    },
    {
      "cell_type": "code",
      "execution_count": 80,
      "metadata": {
        "id": "8NC26x5x9oU5"
      },
      "outputs": [],
      "source": [
        "def bio_classification_report(y_true, y_pred):\n",
        "    \"\"\"\n",
        "    Classification report for a list of BIO-encoded sequences.\n",
        "    It computes token-level metrics and discards \"O\" labels.\n",
        "    \n",
        "    Note that it requires scikit-learn 0.15+ (or a version from github master)\n",
        "    to calculate averages properly!\n",
        "    \"\"\"\n",
        "    lb = LabelBinarizer()\n",
        "    y_true_combined = lb.fit_transform(list(chain.from_iterable(y_true)))\n",
        "    y_pred_combined = lb.transform(list(chain.from_iterable(y_pred)))\n",
        "        \n",
        "    tagset = set(lb.classes_) - {'O'}\n",
        "    tagset = sorted(tagset, key=lambda tag: tag.split('-', 1)[::-1])\n",
        "    class_indices = {cls: idx for idx, cls in enumerate(lb.classes_)}\n",
        "    \n",
        "    return classification_report(\n",
        "        y_true_combined,\n",
        "        y_pred_combined,\n",
        "        labels = [class_indices[cls] for cls in tagset],\n",
        "        target_names = tagset,\n",
        "    )"
      ]
    },
    {
      "cell_type": "code",
      "execution_count": 81,
      "metadata": {
        "id": "6NtCYu969oU5",
        "outputId": "c999a903-5f5f-474b-df32-e6e9b68cfd7c",
        "colab": {
          "base_uri": "https://localhost:8080/"
        }
      },
      "outputs": [
        {
          "output_type": "stream",
          "name": "stdout",
          "text": [
            "              precision    recall  f1-score   support\n",
            "\n",
            "         ADJ       0.85      0.78      0.81      1155\n",
            "         ADV       0.92      0.86      0.89       843\n",
            "         CLF       0.94      0.85      0.90       456\n",
            "         CNM       0.80      0.75      0.78       152\n",
            "         COJ       0.92      0.90      0.91      1241\n",
            "         DAN       0.50      0.50      0.50         2\n",
            "         DAQ       1.00      1.00      1.00         7\n",
            "         DBQ       0.80      0.80      0.80        59\n",
            "         DMN       1.00      1.00      1.00       236\n",
            "         FIX       0.90      0.94      0.92       147\n",
            "         IAC       0.97      0.97      0.97       164\n",
            "         IAQ       1.00      1.00      1.00        15\n",
            "         IBQ       1.00      1.00      1.00         3\n",
            "           N       0.81      0.90      0.85      7302\n",
            "         NEG       0.99      0.99      0.99       249\n",
            "         NTR       0.98      0.96      0.97       190\n",
            "         ONM       1.00      0.12      0.22         8\n",
            "         PRA       0.91      0.86      0.89       681\n",
            "         PRE       0.94      0.89      0.91      1310\n",
            "         PRN       0.75      0.67      0.71      2368\n",
            "         PRS       1.00      0.98      0.99       655\n",
            "       PUNCT       0.99      0.98      0.98      1188\n",
            "         PVA       1.00      0.99      1.00       193\n",
            "         REL       0.86      0.93      0.89       284\n",
            "         TTL       0.78      0.80      0.79        66\n",
            "           V       0.88      0.84      0.86      4706\n",
            "\n",
            "   micro avg       0.86      0.86      0.86     23680\n",
            "   macro avg       0.90      0.86      0.87     23680\n",
            "weighted avg       0.87      0.86      0.86     23680\n",
            " samples avg       0.86      0.86      0.86     23680\n",
            "\n"
          ]
        }
      ],
      "source": [
        "print(bio_classification_report(gold, pred))"
      ]
    },
    {
      "cell_type": "markdown",
      "source": [
        "## check test"
      ],
      "metadata": {
        "id": "PGYIDBVYEAGc"
      }
    },
    {
      "cell_type": "code",
      "source": [
        "test_x = [[i[0] for i in j] for j in test_dataset]\n",
        "test_y = [[i[1] for i in j] for j in test_dataset]"
      ],
      "metadata": {
        "id": "O67mRJkvEEbh"
      },
      "execution_count": 82,
      "outputs": []
    },
    {
      "cell_type": "code",
      "execution_count": 83,
      "metadata": {
        "id": "wRaGhFs59oU6"
      },
      "outputs": [],
      "source": [
        "test_pred = [[t for _,t in tagger.tag(sent)] for sent in test_x]\n",
        "test_gold = test_y"
      ]
    },
    {
      "cell_type": "code",
      "source": [
        "for i in range(0,len(test_pred)):\n",
        "    if len(test_pred[i]) != len(test_gold[i]):\n",
        "        print(i)\n",
        "        print(test_pred[i],test_gold[i])"
      ],
      "metadata": {
        "id": "DmezHsh1EL6t"
      },
      "execution_count": 84,
      "outputs": []
    },
    {
      "cell_type": "code",
      "source": [
        "len(test_pred),len(test_gold)"
      ],
      "metadata": {
        "colab": {
          "base_uri": "https://localhost:8080/"
        },
        "id": "cAZ2x4UoERpL",
        "outputId": "7d55f0e7-b18a-4abc-cdb9-89e09f5ac237"
      },
      "execution_count": 85,
      "outputs": [
        {
          "output_type": "execute_result",
          "data": {
            "text/plain": [
              "(3000, 3000)"
            ]
          },
          "metadata": {},
          "execution_count": 85
        }
      ]
    },
    {
      "cell_type": "code",
      "source": [
        "print(bio_classification_report(test_gold, test_pred))"
      ],
      "metadata": {
        "colab": {
          "base_uri": "https://localhost:8080/"
        },
        "id": "jM-_jW3pEWfb",
        "outputId": "58d37ef1-7de7-4466-a410-b30a2f4d3b50"
      },
      "execution_count": 86,
      "outputs": [
        {
          "output_type": "stream",
          "name": "stdout",
          "text": [
            "              precision    recall  f1-score   support\n",
            "\n",
            "         ADJ       0.86      0.78      0.82      2311\n",
            "         ADV       0.93      0.86      0.89      1636\n",
            "         CLF       0.93      0.88      0.91       767\n",
            "         CNM       0.88      0.79      0.83       246\n",
            "         COJ       0.93      0.91      0.92      2351\n",
            "         DAN       0.33      0.33      0.33         3\n",
            "         DAQ       1.00      1.00      1.00         7\n",
            "         DBQ       0.92      0.81      0.86       165\n",
            "         DMN       1.00      1.00      1.00       467\n",
            "         FIX       0.92      0.96      0.94       254\n",
            "         IAC       0.98      0.97      0.98       337\n",
            "         IAQ       0.97      0.95      0.96        41\n",
            "         IBQ       1.00      0.57      0.73        14\n",
            "           N       0.81      0.90      0.85     13859\n",
            "         NEG       0.99      0.98      0.98       491\n",
            "         NTR       0.97      0.96      0.97       322\n",
            "         ONM       0.25      0.14      0.18         7\n",
            "         PRA       0.91      0.86      0.88      1193\n",
            "         PRE       0.93      0.90      0.91      2594\n",
            "         PRN       0.74      0.68      0.71      4513\n",
            "         PRS       1.00      0.97      0.98      1283\n",
            "       PUNCT       0.98      0.98      0.98      2130\n",
            "         PVA       1.00      0.98      0.99       413\n",
            "         REL       0.85      0.95      0.90       534\n",
            "         TTL       0.75      0.77      0.76       150\n",
            "           V       0.87      0.84      0.85      8745\n",
            "\n",
            "   micro avg       0.86      0.86      0.86     44833\n",
            "   macro avg       0.87      0.84      0.85     44833\n",
            "weighted avg       0.87      0.86      0.86     44833\n",
            " samples avg       0.86      0.86      0.86     44833\n",
            "\n"
          ]
        }
      ]
    },
    {
      "cell_type": "code",
      "source": [
        ""
      ],
      "metadata": {
        "id": "dbECQnPxEZ6f"
      },
      "execution_count": null,
      "outputs": []
    }
  ],
  "metadata": {
    "kernelspec": {
      "display_name": "Python 3",
      "language": "python",
      "name": "python3"
    },
    "language_info": {
      "codemirror_mode": {
        "name": "ipython",
        "version": 3
      },
      "file_extension": ".py",
      "mimetype": "text/x-python",
      "name": "python",
      "nbconvert_exporter": "python",
      "pygments_lexer": "ipython3",
      "version": "3.8.5"
    },
    "colab": {
      "name": "train.ipynb",
      "provenance": [],
      "collapsed_sections": []
    }
  },
  "nbformat": 4,
  "nbformat_minor": 0
}